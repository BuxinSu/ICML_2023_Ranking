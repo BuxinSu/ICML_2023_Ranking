{
 "cells": [
  {
   "cell_type": "code",
   "execution_count": null,
   "metadata": {
    "executionInfo": {
     "elapsed": 1431187,
     "status": "ok",
     "timestamp": 1745875080737,
     "user": {
      "displayName": "Buxin Su",
      "userId": "12574803226597557409"
     },
     "user_tz": 240
    },
    "id": "mPiiuUgYrJEl"
   },
   "outputs": [],
   "source": [
    "from sklearn.isotonic import isotonic_regression\n",
    "import cvxpy as cp\n",
    "import numpy as np\n",
    "import csv, os\n",
    "from scipy import stats\n",
    "from sklearn import metrics\n",
    "import itertools\n",
    "import pandas as pd\n",
    "from sklearn.metrics import mean_squared_error\n",
    "import matplotlib.pyplot as plt\n",
    "import statistics\n",
    "from scipy.stats import levene\n",
    "import seaborn as sns\n",
    "\n",
    "\n",
    "# Load CSV file into a pandas DataFrame\n",
    "df = pd.read_csv(r'proxy_score.csv')\n",
    "df = df.drop_duplicates(['submission_id', 'author_id'])\n",
    "\n",
    "# Extract the unique authors from the DataFrame\n",
    "authors = df['author_id'].unique()\n",
    "\n",
    "# Initialize an empty dictionary to store the results\n",
    "results_pairup = {}\n",
    "\n",
    "for i in range(len(authors)):\n",
    "    for j in range(i + 1, len(authors)):\n",
    "        author1 = authors[i]\n",
    "        author2 = authors[j]\n",
    "\n",
    "        # Extract the submission IDs as sets\n",
    "        submissions1 = df[df['author_id'] == author1]['submission_id'].tolist()\n",
    "        submissions2 = df[df['author_id'] == author2]['submission_id'].tolist()\n",
    "\n",
    "        submissions1 = list(set( submissions1 ))\n",
    "        submissions2 = list(set( submissions2 ))\n",
    "\n",
    "        common_submissions = []\n",
    "        for submission in submissions1:\n",
    "            if submission in submissions2:\n",
    "                common_submissions.append(submission)\n",
    "\n",
    "        # Add the common submissions to the results dictionary\n",
    "        results_pairup[(author1, author2)] = common_submissions\n",
    "\n",
    "\n",
    "# All the coauthors that they submit more than 1 paper together\n",
    "results_coauthor = {}\n",
    "# Loop through the keys of the dictionary\n",
    "for key in results_pairup:\n",
    "    # Check if the value list has more than one element\n",
    "    if len(results_pairup[key]) > 1:\n",
    "        key_coauthor = key\n",
    "        results_coauthor[key_coauthor] = results_pairup[key_coauthor]\n",
    "\n",
    "\n",
    "results_coauthor = {key: [pair for pair in itertools.combinations(results_coauthor[key], 2)] for key in results_coauthor}"
   ]
  },
  {
   "cell_type": "code",
   "execution_count": 4,
   "metadata": {
    "colab": {
     "base_uri": "https://localhost:8080/"
    },
    "executionInfo": {
     "elapsed": 4471,
     "status": "ok",
     "timestamp": 1745875085216,
     "user": {
      "displayName": "Buxin Su",
      "userId": "12574803226597557409"
     },
     "user_tz": 240
    },
    "id": "h1skJ0k1rQM0",
    "outputId": "a56f19b7-5e27-4997-b1f1-2486706b856b"
   },
   "outputs": [
    {
     "name": "stdout",
     "output_type": "stream",
     "text": [
      "total: 433\n",
      "fraction of disagree: 0.3071593533487298\n",
      "total: 291\n",
      "fraction of disagree: 0.2611683848797251\n"
     ]
    }
   ],
   "source": [
    "\n",
    "results_coauthor_smallgaps = {}\n",
    "results_coauthor_largegaps = {}\n",
    "for author_pair in results_coauthor:\n",
    "  results_coauthor_smallgaps[author_pair] = []\n",
    "  results_coauthor_largegaps[author_pair] = []\n",
    "  for i in range(len(results_coauthor[author_pair])):\n",
    "    rating_0 = df[ df['submission_id'] == results_coauthor[author_pair][i][0] ]['rating_0422_mean'].tolist()[0]\n",
    "    rating_1 = df[ df['submission_id'] == results_coauthor[author_pair][i][1] ]['rating_0422_mean'].tolist()[0]\n",
    "    if abs(rating_0 - rating_1) <= 1:\n",
    "      results_coauthor_smallgaps[author_pair].append( results_coauthor[author_pair][i] )\n",
    "    if abs(rating_0 - rating_1) > 1:\n",
    "      results_coauthor_largegaps[author_pair].append( results_coauthor[author_pair][i] )\n",
    "\n",
    "\n",
    "\n",
    "smallgaps_total = 0\n",
    "smallgaps_rank1_disagree = 0\n",
    "smallgaps_rank1_tie = 0\n",
    "smallgaps_rank1_agree = 0\n",
    "\n",
    "# fix each key and each pair of work\n",
    "for coauthor in results_coauthor_smallgaps:\n",
    "    smallgaps_total += len(results_coauthor_smallgaps[coauthor])\n",
    "    if len(results_coauthor_smallgaps[coauthor]) != 0:\n",
    "      for j in range(len(results_coauthor_smallgaps[coauthor])):\n",
    "          submission_pair = results_coauthor_smallgaps[coauthor][j]\n",
    "          submission0 = submission_pair[0]\n",
    "          submission1 = submission_pair[1]\n",
    "          author0 = coauthor[0]\n",
    "          author1 = coauthor[1]\n",
    "          # Filter the DataFrame to include only the rows corresponding to the key and submission\n",
    "          rank00 = df[(df['author_id'] == author0) & (df['submission_id'] == submission0)]['rank'].tolist()\n",
    "          rank01 = df[(df['author_id'] == author0) & (df['submission_id'] == submission1)]['rank'].tolist()\n",
    "          rank10 = df[(df['author_id'] == author1) & (df['submission_id'] == submission0)]['rank'].tolist()\n",
    "          rank11 = df[(df['author_id'] == author1) & (df['submission_id'] == submission1)]['rank'].tolist()\n",
    "\n",
    "          if rank00[0] - rank01[0] == 0 or rank10[0] - rank11[0] == 0:\n",
    "              smallgaps_rank1_tie += 1\n",
    "          if (rank00[0] - rank01[0])*(rank10[0] - rank11[0]) < 0:\n",
    "              smallgaps_rank1_disagree += 1\n",
    "          if (rank00[0] - rank01[0])*(rank10[0] - rank11[0]) > 0:\n",
    "              smallgaps_rank1_agree += 1\n",
    "print(\"total:\", smallgaps_total)\n",
    "print(\"fraction of disagree:\", smallgaps_rank1_disagree/(smallgaps_rank1_disagree + smallgaps_rank1_agree + smallgaps_rank1_tie) )\n",
    "\n",
    "\n",
    "\n",
    "largegaps_total = 0\n",
    "largegaps_rank1_disagree = 0\n",
    "largegaps_rank1_tie = 0\n",
    "largegaps_rank1_agree = 0\n",
    "\n",
    "# fix each key and each pair of work\n",
    "for coauthor in results_coauthor_largegaps:\n",
    "    largegaps_total += len(results_coauthor_largegaps[coauthor])\n",
    "    if len(results_coauthor_largegaps[coauthor]) != 0:\n",
    "      for j in range(len(results_coauthor_largegaps[coauthor])):\n",
    "          submission_pair = results_coauthor_largegaps[coauthor][j]\n",
    "          submission0 = submission_pair[0]\n",
    "          submission1 = submission_pair[1]\n",
    "          author0 = coauthor[0]\n",
    "          author1 = coauthor[1]\n",
    "          # Filter the DataFrame to include only the rows corresponding to the key and submission\n",
    "          rank00 = df[(df['author_id'] == author0) & (df['submission_id'] == submission0)]['rank'].tolist()\n",
    "          rank01 = df[(df['author_id'] == author0) & (df['submission_id'] == submission1)]['rank'].tolist()\n",
    "          rank10 = df[(df['author_id'] == author1) & (df['submission_id'] == submission0)]['rank'].tolist()\n",
    "          rank11 = df[(df['author_id'] == author1) & (df['submission_id'] == submission1)]['rank'].tolist()\n",
    "\n",
    "          if rank00[0] - rank01[0] == 0 or rank10[0] - rank11[0] == 0:\n",
    "              largegaps_rank1_tie += 1\n",
    "          if (rank00[0] - rank01[0])*(rank10[0] - rank11[0]) < 0:\n",
    "              largegaps_rank1_disagree += 1\n",
    "          if (rank00[0] - rank01[0])*(rank10[0] - rank11[0]) > 0:\n",
    "              largegaps_rank1_agree += 1\n",
    "print(\"total:\", largegaps_total)\n",
    "print(\"fraction of disagree:\", largegaps_rank1_disagree/(largegaps_rank1_disagree + largegaps_rank1_agree + largegaps_rank1_tie) )\n"
   ]
  }
 ],
 "metadata": {
  "colab": {
   "authorship_tag": "ABX9TyOVXrbxDzT9fWb+TdvdeaFX",
   "mount_file_id": "1zdPdKdTAzsHpIeK7dyEOIWm_fwaK8RDC",
   "provenance": []
  },
  "kernelspec": {
   "display_name": "Python 3",
   "name": "python3"
  },
  "language_info": {
   "name": "python"
  }
 },
 "nbformat": 4,
 "nbformat_minor": 0
}
