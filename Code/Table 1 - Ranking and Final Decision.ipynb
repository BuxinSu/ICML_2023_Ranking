{
 "cells": [
  {
   "cell_type": "markdown",
   "metadata": {
    "id": "SFQ5ON0HvxVo"
   },
   "source": [
    "# **Import Google Drive**\n"
   ]
  },
  {
   "cell_type": "code",
   "execution_count": 2,
   "metadata": {
    "colab": {
     "base_uri": "https://localhost:8080/"
    },
    "executionInfo": {
     "elapsed": 6209,
     "status": "ok",
     "timestamp": 1745896757416,
     "user": {
      "displayName": "Buxin Su",
      "userId": "12574803226597557409"
     },
     "user_tz": 240
    },
    "id": "WLAyR7iLrUkb",
    "outputId": "8e7b062f-d73a-4ecc-e9bb-912d041dac97"
   },
   "outputs": [
    {
     "name": "stdout",
     "output_type": "stream",
     "text": [
      "Mounted at /content/drive\n"
     ]
    }
   ],
   "source": [
    "from google.colab import drive\n",
    "drive.mount('/content/drive')"
   ]
  },
  {
   "cell_type": "markdown",
   "metadata": {
    "id": "c3ji9dWFv7cj"
   },
   "source": [
    "# **Setting**\n"
   ]
  },
  {
   "cell_type": "code",
   "execution_count": 3,
   "metadata": {
    "executionInfo": {
     "elapsed": 3920,
     "status": "ok",
     "timestamp": 1745896761334,
     "user": {
      "displayName": "Buxin Su",
      "userId": "12574803226597557409"
     },
     "user_tz": 240
    },
    "id": "paSHZNIhwZDl"
   },
   "outputs": [],
   "source": [
    "from sklearn.isotonic import isotonic_regression\n",
    "import cvxpy as cp\n",
    "import numpy as np\n",
    "import csv, os\n",
    "from scipy import stats\n",
    "from sklearn import metrics\n",
    "import itertools\n",
    "import pandas as pd\n",
    "from sklearn.metrics import mean_squared_error\n",
    "import matplotlib.pyplot as plt\n",
    "import statistics\n",
    "from scipy.stats import levene\n",
    "import seaborn as sns\n",
    "import warnings\n",
    "warnings.filterwarnings(\"ignore\", category=RuntimeWarning)\n",
    "\n",
    "from statsmodels.stats.contingency_tables import mcnemar\n"
   ]
  },
  {
   "cell_type": "markdown",
   "metadata": {
    "id": "Blxgp0xpwe3_"
   },
   "source": [
    "# **Load CSV file into a pandas DataFrame**"
   ]
  },
  {
   "cell_type": "code",
   "execution_count": null,
   "metadata": {
    "executionInfo": {
     "elapsed": 945,
     "status": "ok",
     "timestamp": 1745896762271,
     "user": {
      "displayName": "Buxin Su",
      "userId": "12574803226597557409"
     },
     "user_tz": 240
    },
    "id": "91BWlCQLwf7O"
   },
   "outputs": [],
   "source": [
    "# Load CSV file into a pandas DataFrame\n",
    "df = pd.read_csv(r'rank_author_dec.csv')\n",
    "df = df.drop_duplicates(['submission_id', 'author_id'])\n"
   ]
  },
  {
   "cell_type": "markdown",
   "metadata": {
    "id": "hf2bvKtgxif2"
   },
   "source": [
    "# **Highest-ranked vs Lowest-ranked in Final Decisions**\n",
    "\n"
   ]
  },
  {
   "cell_type": "code",
   "execution_count": null,
   "metadata": {
    "colab": {
     "base_uri": "https://localhost:8080/"
    },
    "executionInfo": {
     "elapsed": 12963,
     "status": "ok",
     "timestamp": 1745896775237,
     "user": {
      "displayName": "Buxin Su",
      "userId": "12574803226597557409"
     },
     "user_tz": 240
    },
    "id": "c-zTS2npx9l7",
    "outputId": "a1f8f72a-875c-4414-e17c-e0c6f5b1446f"
   },
   "outputs": [
    {
     "name": "stdout",
     "output_type": "stream",
     "text": [
      "High-ranked: 0.04658 0.33509 0.52817 0.09016\n",
      "Low-ranked: 0.02329 0.23366 0.57776 0.16529\n"
     ]
    }
   ],
   "source": [
    "from sklearn.isotonic import isotonic_regression\n",
    "import numpy as np\n",
    "import pandas as pd\n",
    "from sklearn.metrics import mean_squared_error\n",
    "import matplotlib.pyplot as plt\n",
    "\n",
    "\n",
    "# Load CSV file into a pandas DataFrame\n",
    "df_rank = pd.read_csv(r'aggregated_results_anonymized.csv')\n",
    "\n",
    "authors = df_rank['author_id'].unique()\n",
    "\n",
    "high_rank_submissions = []\n",
    "low_rank_submissions = []\n",
    "for author in authors:\n",
    "  rank = df_rank[df_rank['author_id'] == author]['rank_1'].tolist()\n",
    "  high_rank_submissions.append( df_rank[(df_rank['author_id'] == author) & (df_rank['rank_1'] == min(rank))]['submission_id'].tolist()[0] )\n",
    "  low_rank_submissions.append( df_rank[(df_rank['author_id'] == author) & (df_rank['rank_1'] == max(rank))]['submission_id'].tolist()[0] )\n",
    "\n",
    "\n",
    "oral = 0\n",
    "accept = 0\n",
    "reject = 0\n",
    "withdraw = 0\n",
    "for submission in high_rank_submissions:\n",
    "  if df_rank[df_rank['submission_id'] == submission]['decision'].tolist()[0] == 'Accept (Oral & Poster)':\n",
    "    oral += 1\n",
    "  if df_rank[df_rank['submission_id'] == submission]['decision'].tolist()[0] == 'Accept (Poster)':\n",
    "    accept += 1\n",
    "  if df_rank[df_rank['submission_id'] == submission]['decision'].tolist()[0] == 'Reject':\n",
    "    reject += 1\n",
    "  if df_rank[df_rank['submission_id'] == submission]['decision'].tolist()[0] == 'Withdrawn or Desk Rejected':\n",
    "    withdraw += 1\n",
    "\n",
    "print(\"High-ranked:\", round(oral/len(high_rank_submissions),5), round(accept/len(high_rank_submissions),5), round(reject/len(high_rank_submissions),5), round(withdraw/len(high_rank_submissions),5) )\n",
    "\n",
    "oral = 0\n",
    "accept = 0\n",
    "reject = 0\n",
    "withdraw = 0\n",
    "for submission in low_rank_submissions:\n",
    "  if df_rank[df_rank['submission_id'] == submission]['decision'].tolist()[0] == 'Accept (Oral & Poster)':\n",
    "    oral += 1\n",
    "  if df_rank[df_rank['submission_id'] == submission]['decision'].tolist()[0] == 'Accept (Poster)':\n",
    "    accept += 1\n",
    "  if df_rank[df_rank['submission_id'] == submission]['decision'].tolist()[0] == 'Reject':\n",
    "    reject += 1\n",
    "  if df_rank[df_rank['submission_id'] == submission]['decision'].tolist()[0] == 'Withdrawn or Desk Rejected':\n",
    "    withdraw += 1\n",
    "\n",
    "print(\"Low-ranked:\", round(oral/len(low_rank_submissions),5), round(accept/len(low_rank_submissions),5), round(reject/len(low_rank_submissions),5), round(withdraw/len(low_rank_submissions),5) )\n"
   ]
  },
  {
   "cell_type": "markdown",
   "metadata": {
    "id": "W4Cd6WHlxc2n"
   },
   "source": [
    "# **Perform Chi Squared Test**\n"
   ]
  },
  {
   "cell_type": "code",
   "execution_count": 6,
   "metadata": {
    "executionInfo": {
     "elapsed": 7907,
     "status": "ok",
     "timestamp": 1745896783158,
     "user": {
      "displayName": "Buxin Su",
      "userId": "12574803226597557409"
     },
     "user_tz": 240
    },
    "id": "zoWTMU_mkWai"
   },
   "outputs": [],
   "source": [
    "\n",
    "## Organize all the submissions by {author: [submission, rank]}.\n",
    "author_submission_rank_old = {}\n",
    "authors = df['author_id'].unique()\n",
    "\n",
    "for author in authors:\n",
    "    author_submission_rank_old[author] = []\n",
    "    submissions = df[df['author_id'] == author]['submission_id'].tolist()\n",
    "    for i in range(len(submissions)):\n",
    "        rank = df[(df['submission_id'] == submissions[i]) & (df['author_id'] == author)]['rank'].tolist()[0]\n",
    "        author_submission_rank_old[author].append((submissions[i], rank))\n",
    "\n",
    "\n",
    "# Sort submissions by rank.\n",
    "def sort_submissions(author_submission_rank_old):\n",
    "    for author in author_submission_rank_old:\n",
    "        author_submission_rank_old[author].sort(key=lambda x: x[1], reverse=False)\n",
    "    return author_submission_rank_old\n",
    "\n",
    "author_submission_rank_old = sort_submissions(author_submission_rank_old)\n",
    "\n",
    "\n",
    "# If final decesion = xxx, record 1; Otherwise, record 0.\n",
    "df['decision'] = df['decision'].map({'Withdrawn or Desk Rejected': 1.0, 'Reject': 0.0, 'Accept (Poster)': 0.0, 'Accept (Oral & Poster)':0.0})\n",
    "\n",
    "# Append highest-ranked submission into High_decision list; Append lowest-ranked submission into Low_decision list.\n",
    "High_decision = []\n",
    "Low_decision = []\n",
    "for author in author_submission_rank_old:\n",
    "        decision = df[df['submission_id'] == author_submission_rank_old[author][0][0]]['decision'].tolist()\n",
    "        decision = decision[0]\n",
    "        High_decision.append(decision)\n",
    "\n",
    "        decision = df[df['submission_id'] == author_submission_rank_old[author][-1][0]]['decision'].tolist()\n",
    "        decision = decision[0]\n",
    "        Low_decision.append(decision)\n"
   ]
  },
  {
   "cell_type": "code",
   "execution_count": 7,
   "metadata": {
    "colab": {
     "base_uri": "https://localhost:8080/"
    },
    "executionInfo": {
     "elapsed": 42,
     "status": "ok",
     "timestamp": 1745896783212,
     "user": {
      "displayName": "Buxin Su",
      "userId": "12574803226597557409"
     },
     "user_tz": 240
    },
    "id": "YbpI53jfxdHz",
    "outputId": "1b75f39c-87ee-4e5d-a912-3a99893febd3"
   },
   "outputs": [
    {
     "name": "stdout",
     "output_type": "stream",
     "text": [
      "high-ranked submissions: 0.09016393442622951\n",
      "low-ranked submissions: 0.16244411326378538\n",
      "Chi-square test statistic: 31.115904673849464\n",
      "P-value: 2.4307155692960957e-08\n"
     ]
    }
   ],
   "source": [
    "contingency_table = [[0, 0], [0, 0]]\n",
    "for i in range(len(High_decision)):\n",
    "    if High_decision[i] == 1:\n",
    "        contingency_table[0][0] += 1\n",
    "    if High_decision[i] == 0:\n",
    "        contingency_table[0][1] += 1\n",
    "    if Low_decision[i] == 1:\n",
    "        contingency_table[1][0] += 1\n",
    "    if Low_decision[i] == 0:\n",
    "        contingency_table[1][1] += 1\n",
    "\n",
    "\n",
    "res = stats.chi2_contingency(np.array(contingency_table), correction=True, lambda_=None)\n",
    "\n",
    "result = mcnemar(contingency_table, exact=False)  # exact=True for small sample sizes\n",
    "\n",
    "print(\"high-ranked submissions:\", contingency_table[0][0]/(contingency_table[0][0] + contingency_table[0][1]))\n",
    "print(\"low-ranked submissions:\", contingency_table[1][0]/(contingency_table[1][0] + contingency_table[1][1]))\n",
    "\n",
    "print(\"Chi-square test statistic:\", res.statistic)\n",
    "print(\"P-value:\", res.pvalue)"
   ]
  }
 ],
 "metadata": {
  "colab": {
   "authorship_tag": "ABX9TyPKUDu/lkL5eYNUFQSfQVYk",
   "mount_file_id": "1yh59Lso_vdI3tIOH4Ui9nFcqDDANjXA-",
   "provenance": []
  },
  "kernelspec": {
   "display_name": "Python 3",
   "name": "python3"
  },
  "language_info": {
   "name": "python"
  }
 },
 "nbformat": 4,
 "nbformat_minor": 0
}
