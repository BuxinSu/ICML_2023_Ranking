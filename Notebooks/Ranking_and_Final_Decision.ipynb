{
  "nbformat": 4,
  "nbformat_minor": 0,
  "metadata": {
    "colab": {
      "provenance": [],
      "mount_file_id": "1yh59Lso_vdI3tIOH4Ui9nFcqDDANjXA-",
      "authorship_tag": "ABX9TyOYncPkd4wALvCtWtr70Svx",
      "include_colab_link": true
    },
    "kernelspec": {
      "name": "python3",
      "display_name": "Python 3"
    },
    "language_info": {
      "name": "python"
    }
  },
  "cells": [
    {
      "cell_type": "markdown",
      "metadata": {
        "id": "view-in-github",
        "colab_type": "text"
      },
      "source": [
        "<a href=\"https://colab.research.google.com/github/BuxinSu/ICML_Ranking/blob/main/Notebooks/Ranking_and_Final_Decision.ipynb\" target=\"_parent\"><img src=\"https://colab.research.google.com/assets/colab-badge.svg\" alt=\"Open In Colab\"/></a>"
      ]
    },
    {
      "cell_type": "markdown",
      "source": [
        "# **Import Google Drive**\n"
      ],
      "metadata": {
        "id": "SFQ5ON0HvxVo"
      }
    },
    {
      "cell_type": "code",
      "source": [
        "from google.colab import drive\n",
        "drive.mount('/content/drive')"
      ],
      "metadata": {
        "id": "WLAyR7iLrUkb",
        "colab": {
          "base_uri": "https://localhost:8080/"
        },
        "outputId": "7d3673f6-223e-487e-b9e9-7437533ff461"
      },
      "execution_count": null,
      "outputs": [
        {
          "output_type": "stream",
          "name": "stdout",
          "text": [
            "Drive already mounted at /content/drive; to attempt to forcibly remount, call drive.mount(\"/content/drive\", force_remount=True).\n"
          ]
        }
      ]
    },
    {
      "cell_type": "markdown",
      "source": [
        "# **Setting**\n"
      ],
      "metadata": {
        "id": "c3ji9dWFv7cj"
      }
    },
    {
      "cell_type": "code",
      "source": [
        "from sklearn.isotonic import isotonic_regression\n",
        "import cvxpy as cp\n",
        "import numpy as np\n",
        "import csv, os\n",
        "from scipy import stats\n",
        "from sklearn import metrics\n",
        "import itertools\n",
        "import pandas as pd\n",
        "from sklearn.metrics import mean_squared_error\n",
        "import matplotlib.pyplot as plt\n",
        "import statistics\n",
        "from scipy.stats import levene\n",
        "import seaborn as sns\n",
        "import warnings\n",
        "warnings.filterwarnings(\"ignore\", category=RuntimeWarning)"
      ],
      "metadata": {
        "id": "paSHZNIhwZDl"
      },
      "execution_count": null,
      "outputs": []
    },
    {
      "cell_type": "markdown",
      "source": [
        "# **Load CSV file into a pandas DataFrame**"
      ],
      "metadata": {
        "id": "Blxgp0xpwe3_"
      }
    },
    {
      "cell_type": "code",
      "source": [
        "# Load CSV file into a pandas DataFrame\n",
        "df = pd.read_csv(r'/content/drive/MyDrive/Research/Ranking_ICML/rank_author_dec.csv')\n",
        "df = df.drop_duplicates(['submission_id', 'author_id'])"
      ],
      "metadata": {
        "id": "91BWlCQLwf7O"
      },
      "execution_count": null,
      "outputs": []
    },
    {
      "cell_type": "markdown",
      "source": [
        "# **Add highest-ranked submission to High_decision list and lowest-ranked to Low_decision list**\n",
        "\n"
      ],
      "metadata": {
        "id": "hf2bvKtgxif2"
      }
    },
    {
      "cell_type": "code",
      "execution_count": null,
      "metadata": {
        "id": "zoWTMU_mkWai"
      },
      "outputs": [],
      "source": [
        "\n",
        "## Organize all the submissions by {author: [submission, rank]}.\n",
        "author_submission_rank_old = {}\n",
        "authors = df['author_id'].unique()\n",
        "\n",
        "for author in authors:\n",
        "    author_submission_rank_old[author] = []\n",
        "    submissions = df[df['author_id'] == author]['submission_id'].tolist()\n",
        "    for i in range(len(submissions)):\n",
        "        rank = df[(df['submission_id'] == submissions[i]) & (df['author_id'] == author)]['rank'].tolist()[0]\n",
        "        author_submission_rank_old[author].append((submissions[i], rank))\n",
        "\n",
        "\n",
        "\n",
        "# Sort submissions by rank.\n",
        "def sort_submissions(author_submission_rank_old):\n",
        "    for author in author_submission_rank_old:\n",
        "        author_submission_rank_old[author].sort(key=lambda x: x[1], reverse=False)\n",
        "    return author_submission_rank_old\n",
        "\n",
        "author_submission_rank_old = sort_submissions(author_submission_rank_old)\n",
        "\n",
        "\n",
        "\n",
        "# If final decesion = Accept (Oral & Poster), record 1; Otherwise, record 0.\n",
        "df['decision'] = df['decision'].map({'Withdrawn or Desk Rejected': 0.0, 'Reject': 0.0, 'Accept (Poster)': 0.0, 'Accept (Oral & Poster)':1.0})\n",
        "\n",
        "\n",
        "\n",
        "# Append highest-ranked submission into High_decision list; Append lowest-ranked submission into Low_decision list.\n",
        "High_decision = []\n",
        "Low_decision = []\n",
        "for author in author_submission_rank_old:\n",
        "        decision = df[df['submission_id'] == author_submission_rank_old[author][0][0]]['decision'].tolist()\n",
        "        decision = decision[0]\n",
        "        High_decision.append(decision)\n",
        "\n",
        "        decision = df[df['submission_id'] == author_submission_rank_old[author][-1][0]]['decision'].tolist()\n",
        "        decision = decision[0]\n",
        "        Low_decision.append(decision)\n"
      ]
    },
    {
      "cell_type": "markdown",
      "source": [
        "# **Perform Chi Squared Test**\n"
      ],
      "metadata": {
        "id": "W4Cd6WHlxc2n"
      }
    },
    {
      "cell_type": "code",
      "source": [
        "contingency_table = [[0, 0], [0, 0]]\n",
        "for i in range(len(High_decision)):\n",
        "    if High_decision[i] == 1:\n",
        "        contingency_table[0][0] += 1\n",
        "    if High_decision[i] == 0:\n",
        "        contingency_table[0][1] += 1\n",
        "    if Low_decision[i] == 1:\n",
        "        contingency_table[1][0] += 1\n",
        "    if Low_decision[i] == 0:\n",
        "        contingency_table[1][1] += 1\n",
        "\n",
        "\n",
        "res = stats.chi2_contingency(np.array(contingency_table), correction=True, lambda_=None)\n",
        "\n",
        "print(\"high-ranked submissions:\", contingency_table[0][0]/(contingency_table[0][0] + contingency_table[0][1]))\n",
        "print(\"low-ranked submissions:\", contingency_table[1][0]/(contingency_table[1][0] + contingency_table[1][1]))\n",
        "\n",
        "print(\"Chi-square test statistic:\", res.statistic)\n",
        "print(\"P-value:\", res.pvalue)"
      ],
      "metadata": {
        "colab": {
          "base_uri": "https://localhost:8080/"
        },
        "id": "YbpI53jfxdHz",
        "outputId": "4df84242-24bd-4346-93a9-3a612c8cd454"
      },
      "execution_count": null,
      "outputs": [
        {
          "output_type": "stream",
          "name": "stdout",
          "text": [
            "high-ranked submissions: 0.044709388971684055\n",
            "low-ranked submissions: 0.022354694485842028\n",
            "Chi-square test statistic: 9.668654159170737\n",
            "P-value: 0.0018743857093879365\n"
          ]
        }
      ]
    }
  ]
}