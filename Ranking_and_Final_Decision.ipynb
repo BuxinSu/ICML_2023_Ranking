{
  "nbformat": 4,
  "nbformat_minor": 0,
  "metadata": {
    "colab": {
      "provenance": []
    },
    "kernelspec": {
      "name": "python3",
      "display_name": "Python 3"
    },
    "language_info": {
      "name": "python"
    }
  },
  "cells": [
    {
      "cell_type": "code",
      "source": [
        "from google.colab import drive\n",
        "drive.mount('/content/drive')"
      ],
      "metadata": {
        "id": "WLAyR7iLrUkb",
        "colab": {
          "base_uri": "https://localhost:8080/"
        },
        "outputId": "5aeaa7dd-6f9c-4f60-f13f-3edb09f54898"
      },
      "execution_count": 1,
      "outputs": [
        {
          "output_type": "stream",
          "name": "stdout",
          "text": [
            "Drive already mounted at /content/drive; to attempt to forcibly remount, call drive.mount(\"/content/drive\", force_remount=True).\n"
          ]
        }
      ]
    },
    {
      "cell_type": "code",
      "execution_count": 2,
      "metadata": {
        "colab": {
          "base_uri": "https://localhost:8080/"
        },
        "id": "zoWTMU_mkWai",
        "outputId": "13997053-90eb-44f3-ec83-5d057aaea7c7"
      },
      "outputs": [
        {
          "output_type": "stream",
          "name": "stdout",
          "text": [
            "[[60, 1282], [30, 1312]]\n",
            "high: 0.044709388971684055\n",
            "low: 0.022354694485842028\n",
            "Chi-square test statistic: 9.668654159170737\n",
            "P-value: 0.0018743857093879365\n"
          ]
        }
      ],
      "source": [
        "# -*- coding: utf-8 -*-\n",
        "\"\"\"\n",
        "Created on Mon Jul  3 11:01:15 2023\n",
        "\n",
        "@author: subuxin\n",
        "\"\"\"\n",
        "from sklearn.isotonic import isotonic_regression\n",
        "import numpy as np\n",
        "import pandas as pd\n",
        "from sklearn.metrics import mean_squared_error\n",
        "import scipy.stats as stats\n",
        "from itertools import combinations\n",
        "import itertools\n",
        "import matplotlib.pyplot as plt\n",
        "import statistics\n",
        "from statsmodels.stats.contingency_tables import mcnemar\n",
        "import scipy.stats as stats\n",
        "\n",
        "\n",
        "# Load CSV file into a pandas DataFrame\n",
        "df = pd.read_csv(r'/content/drive/MyDrive/Research/Ranking_ICML/rank_author_dec.csv')\n",
        "df = df.drop_duplicates(['submission_id', 'author_id'])\n",
        "\n",
        "# For each author, list its ranked submissions according to its ranking\n",
        "\n",
        "author_submission_rank_old = {}\n",
        "\n",
        "# Extract the unique authors from the DataFrame\n",
        "authors = df['author_id'].unique()\n",
        "\n",
        "# Loop through every submission\n",
        "for author in authors:\n",
        "\n",
        "    author_submission_rank_old[author] = []\n",
        "\n",
        "    # Extract the rating as sets\n",
        "    submissions = df[df['author_id'] == author]['submission_id'].tolist()\n",
        "\n",
        "    for i in range(len(submissions)):\n",
        "\n",
        "        rank = df[(df['submission_id'] == submissions[i]) & (df['author_id'] == author)]['rank'].tolist()\n",
        "        rank = rank[0]\n",
        "\n",
        "        # Add the ratings to the results dictionary\n",
        "        author_submission_rank_old[author].append((submissions[i], rank))\n",
        "\n",
        "def sort_submissions(author_submission_rank_old):\n",
        "    for author in author_submission_rank_old:\n",
        "        author_submission_rank_old[author].sort(key=lambda x: x[1], reverse=False)\n",
        "    return author_submission_rank_old\n",
        "\n",
        "author_submission_rank_old = sort_submissions(author_submission_rank_old)\n",
        "\n",
        "\n",
        "\n",
        "\n",
        "df['decision'] = df['decision'].map({'Withdrawn or Desk Rejected': 0.0, 'Reject': 0.0, 'Accept (Poster)': 0.0, 'Accept (Oral & Poster)':1.0})\n",
        "\n",
        "\n",
        "High_decision = []\n",
        "Low_decision = []\n",
        "\n",
        "for author in author_submission_rank_old:\n",
        "    # for i in range( - 1):\n",
        "      # if abs( author_submission_rank_old[author][i][2] - author_submission_rank_old[author][i+1][2] ) <= 0.25:\n",
        "        decision = df[df['submission_id'] == author_submission_rank_old[author][0][0]]['decision'].tolist()\n",
        "        decision = decision[0]\n",
        "        # print(\"High:\", author_submission_rank_old[author][i][0], decision)\n",
        "        High_decision.append(decision)\n",
        "\n",
        "        decision = df[df['submission_id'] == author_submission_rank_old[author][-1][0]]['decision'].tolist()\n",
        "        decision = decision[0]\n",
        "        # print(\"Low:\", author_submission_rank_old[author][len(author_submission_rank_old[author])][0], decision)\n",
        "        Low_decision.append(decision)\n",
        "\n",
        "\n",
        "# Create a contingency table\n",
        "contingency_table = [[0, 0], [0, 0]]\n",
        "\n",
        "# Count the occurrences of the four possible outcomes\n",
        "for i in range(len(High_decision)):\n",
        "    if High_decision[i] == 1:\n",
        "        contingency_table[0][0] += 1\n",
        "    if High_decision[i] == 0:\n",
        "        contingency_table[0][1] += 1\n",
        "    if Low_decision[i] == 1:\n",
        "        contingency_table[1][0] += 1\n",
        "    if Low_decision[i] == 0:\n",
        "        contingency_table[1][1] += 1\n",
        "\n",
        "\n",
        "res = stats.chi2_contingency(np.array(contingency_table), correction=True, lambda_=None)\n",
        "\n",
        "print(contingency_table)\n",
        "\n",
        "print(\"high:\", contingency_table[0][0]/(contingency_table[0][0] + contingency_table[0][1]))\n",
        "print(\"low:\", contingency_table[1][0]/(contingency_table[1][0] + contingency_table[1][1]))\n",
        "\n",
        "# Print the results\n",
        "print(\"Chi-square test statistic:\", res.statistic)\n",
        "print(\"P-value:\", res.pvalue)\n"
      ]
    }
  ]
}